{
 "cells": [
  {
   "cell_type": "code",
   "execution_count": 22,
   "metadata": {},
   "outputs": [],
   "source": [
    "from nltk.tokenize import word_tokenize\n",
    "from nltk.corpus import stopwords\n",
    "from bert_serving.client import BertClient\n",
    "from sklearn.metrics.pairwise import cosine_similarity\n",
    "import pandas as pd\n",
    "import string\n",
    "import seaborn as sns\n",
    "import matplotlib.pyplot as plt\n",
    "\n",
    "client = BertClient(check_length=False)"
   ]
  },
  {
   "cell_type": "markdown",
   "metadata": {},
   "source": [
    "# Introduction"
   ]
  },
  {
   "cell_type": "markdown",
   "metadata": {},
   "source": [
    "The purpose of this project is to create a persona which has a technical personality. Our created persona should be able to differentiate the technical message from any other message topic on the based of interest scores. To achieve this, I first create a sample dictionary of approximately 50 words through which our input message would be compared. Before I discuss the logic I have used, it is important to list the techniques used. For vectorizing the plain texts to words, I have used a word embedding technique known as Bert. Word embedding is technique in NLP where words or phrases from the vocabulary are mapped to vectors of real numbers. Bidirectional Encoder Representations from Transformers (BERT) is a technique for NLP pre-training developed by Google. The main purpose for the creation of BERT by google was to understand user searches. BERT makes use of Transformer, an attention mechanism that learns contextual relations between words (or sub-words) in a text. In its vanilla form, Transformer includes two separate mechanisms — an encoder that reads the text input and a decoder that produces a prediction for the task.\n",
    "\n",
    "Once we are done with BERT embeddings, the result of finding word embeddings between 2 sentences(dictionary and our input message) is a vector. Once we have 2 vectors, we can calculate the similarity using the cosine similarity. Cosine similarity is a measure of similarity between two non-zero vectors of an inner product space that measures the cosine of the angle between them.  \n",
    "This project has just one function which has 4 subdivided steps which are as follows:\n",
    "\n",
    "1) Preprocessing\n",
    "\n",
    "2) Calculating Interest Scores\n",
    "\n",
    "3) Calculating the lyft Scores\n",
    "\n",
    "4) Visualizing positive and negative lyft scores"
   ]
  },
  {
   "cell_type": "code",
   "execution_count": 43,
   "metadata": {},
   "outputs": [],
   "source": [
    "Dictionary = ['tech', 'gta 4', 'gta','gaming keyboard','pubg', 'fifa','technology', 'laptop', 'mouse', 'electronics', 'desktop', 'TV', 'television', 'Home Audio','apps','cloud','web','interface','innovation', 'machine learning','artificial intelligence','sensor','data science','data','charger','git','version','update' ,'phones','home theater', 'gadgets','IOT','computer science','Camera', 'photo', 'video', 'cell phone', 'mobile','headhopnes', 'games', 'video games', 'gaming','bluetooth', 'wireless','speakers','electronics','amazon','tablets','software','printers','drives', 'floppy', 'keyboard','apple','iphone','android','samsung', 'Computer Parts', 'age of empires']\n"
   ]
  },
  {
   "cell_type": "markdown",
   "metadata": {},
   "source": [
    "# Steps and Logic"
   ]
  },
  {
   "cell_type": "markdown",
   "metadata": {},
   "source": [
    "As we have dicussed earlier that the we have 4 subdivided steps in our function, let's look at them one by one. \n",
    "\n",
    "1) Preprocessing: Preprocessing in text data is required for transferring text from human language to machine-readable format for further processing. In my code, I have removed the stop words, punctuation, converted words from upper case to lower case, and tokenized the message\n",
    "\n",
    "2) Calculating interest Scores: Once the preprocessing is done, we will be left with some filtered and clean words that we will use for further processing. Now, for each filtered word in our input message, we will vectorize with each word in the dictionary using the BERT word embedding technique and compute the cosine similarity. Now, for each word, we will have a different similary score with the each word in the dictionary. We will take the max score per word and then average the score for all words. This average is our interest score in the message. Through this logic, I will return an interest score. \n",
    "\n",
    "3) Calculating lift scores: To calculate the lift in scores, I will iteratively delete one word at a time. Say for example, if my filtered words had a count of 7, in the logic for lift, it will always have the count of 6 iteratively deleting each word and the left words will be the new filtered words. After that, the same logic will be used to calcuate the interest score and we will subtract the newly created interest score from the interest score calculated from the original message. Through this logic, I will return a dataframe of lift score corresponding to the words that were removed iteratively that lead to the new interest score and the lift. \n",
    "\n",
    "4) Visualizations: If the count of positive and negative list words from a message is greater than or equal to 3, I will be return a bar plot of both positive and negative words with the corrseponding lift scores.   "
   ]
  },
  {
   "cell_type": "code",
   "execution_count": 74,
   "metadata": {},
   "outputs": [],
   "source": [
    "def persona(message):\n",
    "    \"\"\"\n",
    "    This function takes as input a message, does the preprocessing steps,calculates its interest score with the \n",
    "    tech dictionary. After that in part 2, we calculate the lyft in interest score when we iteratively delete a message \n",
    "    from our input text. Finally, in part 3, we are creating visualizations of change in interest score for positives and \n",
    "    negatives seperately\n",
    "    :param name: input message text\n",
    "    :returns: 1) Interest score in the message\n",
    "              2) Data frame of lyft in interest score corresponding to the removed word\n",
    "              3) Positive and Negative word Bar plot if the count of both are greater than or equal to 3\n",
    "    \"\"\"\n",
    "    ### preprocessing ###\n",
    "    message = message.lower()                                       ##upper case to lower case\n",
    "    message = word_tokenize(message)                                ##breaking the message into words \n",
    "    filtered_words = [word for word in message if word not in stopwords.words('english')]  ##removing stop words\n",
    "    filtered_words = [c for c in filtered_words if c not in string.punctuation]            ##removing punctuations   \n",
    "    ### preprocessing ###\n",
    "    \n",
    "    cos_word = []                                                   ##empty lift to append the cosine similarity \n",
    "    word_text = []                                                  ##empty lift to append the message word in loop\n",
    "    word_dict = []                                                  ##empty lift to append the dictionary word in loop\n",
    "    count = len(Dictionary)                                         ##len of words in dictionary to later append the word\n",
    "    \n",
    "    ##start of logic for baseline interest score\n",
    "    for i in filtered_words:                                ##looping over filtered words i.e. words after preprocessing\n",
    "        word = i                                                ## capturing the word from loop's iteration \n",
    "        word = list(word.split(\"-\"))                    ##converting into a list as list type is required in BERT's encoing\n",
    "        for j in Dictionary:                                     ##iterating over dictionary words\n",
    "            reference = j                                       ##capturing the word  \n",
    "            reference = list(reference.split(\"-\"))              ##converting to list  \n",
    "            sentences = client.encode([word, reference], show_tokens=False, is_tokenized=True) \n",
    "            ##using BERT word embedding to vectorize the word and corresponding dictionary word\n",
    "            cos_word.append(cosine_similarity(sentences[0,:].reshape(1,-1),sentences[1,:].reshape(1,-1)))  \n",
    "            ##calculating cosine similarity on the 2 vectors\n",
    "            word_dict.append(j)                                 ##appending dictionary word to later create a dataframe\n",
    "        for y in range(count):                  ##loop to append the message word count times. count = length of dictionary\n",
    "            word_text.append(i)                                 ##append to a list count times\n",
    "        \n",
    "    df = pd.DataFrame({'word':word_text,'dictionary':word_dict,'Similarity':cos_word})  \n",
    "    ##creating a dataframe of word, dictionary word and interest score \n",
    "    df['Similarity'] = df['Similarity'].astype('float')                 ##chaning the datatype of interest score to float \n",
    "    df = df.groupby(['word'])['Similarity'].max().reset_index() \n",
    "    ##finding the maximum interest score for each word wrt dictionary word\n",
    "    interest = df[\"Similarity\"].mean()                                  ##averaging interest scores of all words\n",
    "    ##start of logic for lift scores\n",
    "    word_lift = []  \n",
    "    lift= []       \n",
    "    for f in filtered_words:                                                        ##looping over filtered words \n",
    "        word_lift_text = []                                                         ##empty list for words\n",
    "        dict_lift = []                                                              ##empty list for dictionary\n",
    "        cos_lift = []                       ##emply list of interest score for new message deleted iteratively\n",
    "        word_lift = f                                                               ##capturing filtered word\n",
    "        word_lift = list(word_lift.split(\"-\"))                                      ##converting to list\n",
    "        filtered_words_runtime = filtered_words.copy()                              ##creating a copy for runtime \n",
    "        filtered_words_runtime.remove(f)                                            ##delete the word\n",
    "        for x in filtered_words_runtime:                                            ##looping over new message\n",
    "            word_1 = x                                                              ##capturing word\n",
    "            word_1 = list(word_1.split(\"-\"))                                        ##creating a list\n",
    "            for d in Dictionary:                                                    ##looping over dictionary word\n",
    "                reference_lift = d                                                  ##capturing dictionary word\n",
    "                reference_lift = list(reference_lift.split(\"-\"))                    ##creating list \n",
    "                sentences_lift = client.encode([word_1, reference_lift], show_tokens=False, is_tokenized=True) \n",
    "                ##using BERT word embedding to vectorize the word and corresponding dictionary word\n",
    "                cos_lift.append(cosine_similarity(sentences_lift[0,:].reshape(1,-1),sentences_lift[1,:].reshape(1,-1))) \n",
    "                ##calculating cosine similarity from vectors\n",
    "                dict_lift.append(d)                                                 ##capturing dictionary word\n",
    "            for y in range(count):                                                  ##looping over count of dictionary word\n",
    "                word_lift_text.append(x)                                            ##appending word text dictionary times \n",
    "        df1 = pd.DataFrame({'word':word_lift_text,'dictionary':dict_lift,'Similarity':cos_lift}) \n",
    "        ##creating a dataframe of word,dictionary word and correspondig score\n",
    "        df1['Similarity'] = df1['Similarity'].astype('float')                       ##converting interest score to float\n",
    "        df1 = df1.groupby(['word'])['Similarity'].max().reset_index()   \n",
    "        ##finding maximum interest score for each word with respect to dictionary word\n",
    "        \n",
    "        lift.append(interest - df1[\"Similarity\"].mean())                 \n",
    "    ##averaging interest scores of all words and appending into a list after subtracting it with the baseline inerest score.\n",
    "    df_final = pd.DataFrame({'word':filtered_words,'Lift':lift})        \n",
    "    ##once the loop is over, getting a final df of removed words and interest score\n",
    "    df_final_P = df_final[(df_final['Lift']>0)].sort_values('Lift')              ##dataframe for positive lift scores\n",
    "    df_final_N = df_final[(df_final['Lift']<0)].sort_values('Lift')              ##dataframe for negative lift scores\n",
    "    print('The interest score in this message is '+str(interest))                ##printing baseline interest scores\n",
    "    \n",
    "    ##visualizations to print if both positive and negative words are atleast 3\n",
    "    if (len(df_final_P) >= 3) & (len(df_final_N) >= 3): \n",
    "        plt.barh(data = df_final_P, y = 'word', width= 'Lift', align = 'center', alpha = 0.7)\n",
    "        plt.xlabel('Lyft Score')\n",
    "        plt.ylabel('Word')\n",
    "        plt.title('Positive lift scores by word')\n",
    "        plt.show()\n",
    "        plt.barh(data = df_final_N, y = 'word', width= 'Lift', align = 'center', alpha = 0.7)\n",
    "        plt.xlabel('Lyft Score')\n",
    "        plt.ylabel('Word')\n",
    "        plt.title('Negative lift scores by word')\n",
    "        plt.show()\n",
    "    return df_final                                                      ##return final dataframe of words and lift scores"
   ]
  },
  {
   "cell_type": "markdown",
   "metadata": {},
   "source": [
    "# Test Cases"
   ]
  },
  {
   "cell_type": "code",
   "execution_count": 68,
   "metadata": {},
   "outputs": [
    {
     "name": "stdout",
     "output_type": "stream",
     "text": [
      "The interest score in this message is 0.870554406195879\n"
     ]
    },
    {
     "data": {
      "image/png": "[encoded data removed]",
      "text/plain": [
       "<Figure size 432x288 with 1 Axes>"
      ]
     },
     "metadata": {
      "needs_background": "light"
     },
     "output_type": "display_data"
    },
    {
     "data": {
      "image/png": "[encoded data removed]",
      "text/plain": [
       "<Figure size 432x288 with 1 Axes>"
      ]
     },
     "metadata": {
      "needs_background": "light"
     },
     "output_type": "display_data"
    },
    {
     "data": {
      "text/html": [
       "<div>\n",
       "<style scoped>\n",
       "    .dataframe tbody tr th:only-of-type {\n",
       "        vertical-align: middle;\n",
       "    }\n",
       "\n",
       "    .dataframe tbody tr th {\n",
       "        vertical-align: top;\n",
       "    }\n",
       "\n",
       "    .dataframe thead th {\n",
       "        text-align: right;\n",
       "    }\n",
       "</style>\n",
       "<table border=\"1\" class=\"dataframe\">\n",
       "  <thead>\n",
       "    <tr style=\"text-align: right;\">\n",
       "      <th></th>\n",
       "      <th>word</th>\n",
       "      <th>Lift</th>\n",
       "    </tr>\n",
       "  </thead>\n",
       "  <tbody>\n",
       "    <tr>\n",
       "      <td>0</td>\n",
       "      <td>playing</td>\n",
       "      <td>-0.002467</td>\n",
       "    </tr>\n",
       "    <tr>\n",
       "      <td>1</td>\n",
       "      <td>gta</td>\n",
       "      <td>0.008630</td>\n",
       "    </tr>\n",
       "    <tr>\n",
       "      <td>2</td>\n",
       "      <td>throughout</td>\n",
       "      <td>-0.001818</td>\n",
       "    </tr>\n",
       "    <tr>\n",
       "      <td>3</td>\n",
       "      <td>life</td>\n",
       "      <td>-0.006112</td>\n",
       "    </tr>\n",
       "    <tr>\n",
       "      <td>4</td>\n",
       "      <td>however</td>\n",
       "      <td>-0.009216</td>\n",
       "    </tr>\n",
       "    <tr>\n",
       "      <td>5</td>\n",
       "      <td>like</td>\n",
       "      <td>-0.001116</td>\n",
       "    </tr>\n",
       "    <tr>\n",
       "      <td>6</td>\n",
       "      <td>fifa</td>\n",
       "      <td>0.008630</td>\n",
       "    </tr>\n",
       "    <tr>\n",
       "      <td>7</td>\n",
       "      <td>love</td>\n",
       "      <td>-0.008835</td>\n",
       "    </tr>\n",
       "    <tr>\n",
       "      <td>8</td>\n",
       "      <td>pubg</td>\n",
       "      <td>0.008630</td>\n",
       "    </tr>\n",
       "    <tr>\n",
       "      <td>9</td>\n",
       "      <td>gaming</td>\n",
       "      <td>0.000000</td>\n",
       "    </tr>\n",
       "    <tr>\n",
       "      <td>10</td>\n",
       "      <td>also</td>\n",
       "      <td>-0.005114</td>\n",
       "    </tr>\n",
       "    <tr>\n",
       "      <td>11</td>\n",
       "      <td>develops</td>\n",
       "      <td>-0.000833</td>\n",
       "    </tr>\n",
       "    <tr>\n",
       "      <td>12</td>\n",
       "      <td>mental</td>\n",
       "      <td>-0.001631</td>\n",
       "    </tr>\n",
       "    <tr>\n",
       "      <td>13</td>\n",
       "      <td>knowledge</td>\n",
       "      <td>-0.001619</td>\n",
       "    </tr>\n",
       "    <tr>\n",
       "      <td>14</td>\n",
       "      <td>best</td>\n",
       "      <td>-0.004387</td>\n",
       "    </tr>\n",
       "    <tr>\n",
       "      <td>15</td>\n",
       "      <td>gaming</td>\n",
       "      <td>0.000000</td>\n",
       "    </tr>\n",
       "    <tr>\n",
       "      <td>16</td>\n",
       "      <td>keyboard</td>\n",
       "      <td>0.008630</td>\n",
       "    </tr>\n",
       "  </tbody>\n",
       "</table>\n",
       "</div>"
      ],
      "text/plain": [
       "          word      Lift\n",
       "0      playing -0.002467\n",
       "1          gta  0.008630\n",
       "2   throughout -0.001818\n",
       "3         life -0.006112\n",
       "4      however -0.009216\n",
       "5         like -0.001116\n",
       "6         fifa  0.008630\n",
       "7         love -0.008835\n",
       "8         pubg  0.008630\n",
       "9       gaming  0.000000\n",
       "10        also -0.005114\n",
       "11    develops -0.000833\n",
       "12      mental -0.001631\n",
       "13   knowledge -0.001619\n",
       "14        best -0.004387\n",
       "15      gaming  0.000000\n",
       "16    keyboard  0.008630"
      ]
     },
     "execution_count": 68,
     "metadata": {},
     "output_type": "execute_result"
    }
   ],
   "source": [
    "persona(\"I have been playing GTA throughout my life, however, now I like fifa more. I love PUBG too. Gaming also develops your mental knowledge. I have the best gaming keyboard there is.\")"
   ]
  },
  {
   "cell_type": "markdown",
   "metadata": {},
   "source": [
    "From the above output, we can see that the message has a baseline interest score of 87%. This message is relevant to our tech persona and we can infer from the positive visualization plot that removing the words such as fifa, gta, pubg and keyboard reduced the interest score. One of reasons for this is that these words are included in our dictionary."
   ]
  },
  {
   "cell_type": "code",
   "execution_count": 67,
   "metadata": {},
   "outputs": [
    {
     "name": "stdout",
     "output_type": "stream",
     "text": [
      "The interest score in this message is 0.8235321164131164\n"
     ]
    },
    {
     "data": {
      "image/png": "[encoded data removed]",
      "text/plain": [
       "<Figure size 432x288 with 1 Axes>"
      ]
     },
     "metadata": {
      "needs_background": "light"
     },
     "output_type": "display_data"
    },
    {
     "data": {
      "image/png": "[encoded data removed]",
      "text/plain": [
       "<Figure size 432x288 with 1 Axes>"
      ]
     },
     "metadata": {
      "needs_background": "light"
     },
     "output_type": "display_data"
    },
    {
     "data": {
      "text/html": [
       "<div>\n",
       "<style scoped>\n",
       "    .dataframe tbody tr th:only-of-type {\n",
       "        vertical-align: middle;\n",
       "    }\n",
       "\n",
       "    .dataframe tbody tr th {\n",
       "        vertical-align: top;\n",
       "    }\n",
       "\n",
       "    .dataframe thead th {\n",
       "        text-align: right;\n",
       "    }\n",
       "</style>\n",
       "<table border=\"1\" class=\"dataframe\">\n",
       "  <thead>\n",
       "    <tr style=\"text-align: right;\">\n",
       "      <th></th>\n",
       "      <th>word</th>\n",
       "      <th>Lift</th>\n",
       "    </tr>\n",
       "  </thead>\n",
       "  <tbody>\n",
       "    <tr>\n",
       "      <td>0</td>\n",
       "      <td>world</td>\n",
       "      <td>-0.001282</td>\n",
       "    </tr>\n",
       "    <tr>\n",
       "      <td>1</td>\n",
       "      <td>better</td>\n",
       "      <td>-0.006499</td>\n",
       "    </tr>\n",
       "    <tr>\n",
       "      <td>2</td>\n",
       "      <td>place</td>\n",
       "      <td>-0.004384</td>\n",
       "    </tr>\n",
       "    <tr>\n",
       "      <td>3</td>\n",
       "      <td>without</td>\n",
       "      <td>0.000679</td>\n",
       "    </tr>\n",
       "    <tr>\n",
       "      <td>4</td>\n",
       "      <td>terrorism</td>\n",
       "      <td>-0.000537</td>\n",
       "    </tr>\n",
       "    <tr>\n",
       "      <td>5</td>\n",
       "      <td>benefit</td>\n",
       "      <td>-0.002471</td>\n",
       "    </tr>\n",
       "    <tr>\n",
       "      <td>6</td>\n",
       "      <td>anyone</td>\n",
       "      <td>-0.002092</td>\n",
       "    </tr>\n",
       "    <tr>\n",
       "      <td>7</td>\n",
       "      <td>biggest</td>\n",
       "      <td>0.006242</td>\n",
       "    </tr>\n",
       "    <tr>\n",
       "      <td>8</td>\n",
       "      <td>threat</td>\n",
       "      <td>0.004686</td>\n",
       "    </tr>\n",
       "    <tr>\n",
       "      <td>9</td>\n",
       "      <td>humanity</td>\n",
       "      <td>0.005658</td>\n",
       "    </tr>\n",
       "  </tbody>\n",
       "</table>\n",
       "</div>"
      ],
      "text/plain": [
       "        word      Lift\n",
       "0      world -0.001282\n",
       "1     better -0.006499\n",
       "2      place -0.004384\n",
       "3    without  0.000679\n",
       "4  terrorism -0.000537\n",
       "5    benefit -0.002471\n",
       "6     anyone -0.002092\n",
       "7    biggest  0.006242\n",
       "8     threat  0.004686\n",
       "9   humanity  0.005658"
      ]
     },
     "execution_count": 67,
     "metadata": {},
     "output_type": "execute_result"
    }
   ],
   "source": [
    "persona(\"This world is a better place without terrorism as it does not benefit anyone and is the biggest threat to humanity\")"
   ]
  },
  {
   "cell_type": "markdown",
   "metadata": {},
   "source": [
    "From the above output, we can note that interest score is about 82% in the message. From the visualizations and the dataframe, we can see that the positive words such as biggest, humanity, threat and without are the important words as the interest score decreased when we removed them."
   ]
  },
  {
   "cell_type": "code",
   "execution_count": 53,
   "metadata": {},
   "outputs": [
    {
     "name": "stdout",
     "output_type": "stream",
     "text": [
      "The interest score in this message is 0.8976999521255493\n"
     ]
    },
    {
     "data": {
      "image/png": "[encoded data removed]",
      "text/plain": [
       "<Figure size 432x288 with 1 Axes>"
      ]
     },
     "metadata": {
      "needs_background": "light"
     },
     "output_type": "display_data"
    },
    {
     "data": {
      "image/png": "[encoded data removed]",
      "text/plain": [
       "<Figure size 432x288 with 1 Axes>"
      ]
     },
     "metadata": {
      "needs_background": "light"
     },
     "output_type": "display_data"
    },
    {
     "data": {
      "text/html": [
       "<div>\n",
       "<style scoped>\n",
       "    .dataframe tbody tr th:only-of-type {\n",
       "        vertical-align: middle;\n",
       "    }\n",
       "\n",
       "    .dataframe tbody tr th {\n",
       "        vertical-align: top;\n",
       "    }\n",
       "\n",
       "    .dataframe thead th {\n",
       "        text-align: right;\n",
       "    }\n",
       "</style>\n",
       "<table border=\"1\" class=\"dataframe\">\n",
       "  <thead>\n",
       "    <tr style=\"text-align: right;\">\n",
       "      <th></th>\n",
       "      <th>word</th>\n",
       "      <th>Lift</th>\n",
       "    </tr>\n",
       "  </thead>\n",
       "  <tbody>\n",
       "    <tr>\n",
       "      <td>0</td>\n",
       "      <td>new</td>\n",
       "      <td>-0.023805</td>\n",
       "    </tr>\n",
       "    <tr>\n",
       "      <td>1</td>\n",
       "      <td>update</td>\n",
       "      <td>0.020460</td>\n",
       "    </tr>\n",
       "    <tr>\n",
       "      <td>2</td>\n",
       "      <td>version</td>\n",
       "      <td>0.020460</td>\n",
       "    </tr>\n",
       "    <tr>\n",
       "      <td>3</td>\n",
       "      <td>iphone</td>\n",
       "      <td>0.020460</td>\n",
       "    </tr>\n",
       "    <tr>\n",
       "      <td>4</td>\n",
       "      <td>crazy</td>\n",
       "      <td>-0.004534</td>\n",
       "    </tr>\n",
       "    <tr>\n",
       "      <td>5</td>\n",
       "      <td>good</td>\n",
       "      <td>-0.033041</td>\n",
       "    </tr>\n",
       "  </tbody>\n",
       "</table>\n",
       "</div>"
      ],
      "text/plain": [
       "      word      Lift\n",
       "0      new -0.023805\n",
       "1   update  0.020460\n",
       "2  version  0.020460\n",
       "3   iphone  0.020460\n",
       "4    crazy -0.004534\n",
       "5     good -0.033041"
      ]
     },
     "execution_count": 53,
     "metadata": {},
     "output_type": "execute_result"
    }
   ],
   "source": [
    "persona(\"The new update version of iphone is crazy good\")"
   ]
  },
  {
   "cell_type": "markdown",
   "metadata": {},
   "source": [
    "From the above output, we can see that the message has a baseline interest score of 89.7%. This message is relevant to our tech persona and we can infer from the positive visualization plot that removing the words such as update, version and iphone reduced the interest score. One of reasons for this is that these words are included in our dictionary."
   ]
  },
  {
   "cell_type": "code",
   "execution_count": 54,
   "metadata": {},
   "outputs": [
    {
     "name": "stdout",
     "output_type": "stream",
     "text": [
      "The interest score in this message is 0.8863552113374075\n"
     ]
    },
    {
     "data": {
      "image/png": "[encoded data removed]",
      "text/plain": [
       "<Figure size 432x288 with 1 Axes>"
      ]
     },
     "metadata": {
      "needs_background": "light"
     },
     "output_type": "display_data"
    },
    {
     "data": {
      "image/png": "[encoded data removed]",
      "text/plain": [
       "<Figure size 432x288 with 1 Axes>"
      ]
     },
     "metadata": {
      "needs_background": "light"
     },
     "output_type": "display_data"
    },
    {
     "data": {
      "text/html": [
       "<div>\n",
       "<style scoped>\n",
       "    .dataframe tbody tr th:only-of-type {\n",
       "        vertical-align: middle;\n",
       "    }\n",
       "\n",
       "    .dataframe tbody tr th {\n",
       "        vertical-align: top;\n",
       "    }\n",
       "\n",
       "    .dataframe thead th {\n",
       "        text-align: right;\n",
       "    }\n",
       "</style>\n",
       "<table border=\"1\" class=\"dataframe\">\n",
       "  <thead>\n",
       "    <tr style=\"text-align: right;\">\n",
       "      <th></th>\n",
       "      <th>word</th>\n",
       "      <th>Lift</th>\n",
       "    </tr>\n",
       "  </thead>\n",
       "  <tbody>\n",
       "    <tr>\n",
       "      <td>0</td>\n",
       "      <td>iphone</td>\n",
       "      <td>0.022729</td>\n",
       "    </tr>\n",
       "    <tr>\n",
       "      <td>1</td>\n",
       "      <td>best</td>\n",
       "      <td>-0.016320</td>\n",
       "    </tr>\n",
       "    <tr>\n",
       "      <td>2</td>\n",
       "      <td>phone</td>\n",
       "      <td>0.008492</td>\n",
       "    </tr>\n",
       "    <tr>\n",
       "      <td>3</td>\n",
       "      <td>much</td>\n",
       "      <td>-0.013367</td>\n",
       "    </tr>\n",
       "    <tr>\n",
       "      <td>4</td>\n",
       "      <td>better</td>\n",
       "      <td>-0.024264</td>\n",
       "    </tr>\n",
       "    <tr>\n",
       "      <td>5</td>\n",
       "      <td>android</td>\n",
       "      <td>0.022729</td>\n",
       "    </tr>\n",
       "  </tbody>\n",
       "</table>\n",
       "</div>"
      ],
      "text/plain": [
       "      word      Lift\n",
       "0   iphone  0.022729\n",
       "1     best -0.016320\n",
       "2    phone  0.008492\n",
       "3     much -0.013367\n",
       "4   better -0.024264\n",
       "5  android  0.022729"
      ]
     },
     "execution_count": 54,
     "metadata": {},
     "output_type": "execute_result"
    }
   ],
   "source": [
    "persona(\"Iphone is the best phone and it is much better than android\")"
   ]
  },
  {
   "cell_type": "markdown",
   "metadata": {},
   "source": [
    "From the above output, we can see that the message has a baseline interest score of 88.6%. This message is relevant to our tech persona and we can infer from the positive visualization plot that removing the words such as android, phone and iphone reduced the interest score. One of reasons for this is that these words are included in our dictionary."
   ]
  },
  {
   "cell_type": "code",
   "execution_count": 69,
   "metadata": {},
   "outputs": [
    {
     "name": "stdout",
     "output_type": "stream",
     "text": [
      "The interest score in this message is 0.784885436296463\n"
     ]
    },
    {
     "data": {
      "image/png": "[encoded data removed]",
      "text/plain": [
       "<Figure size 432x288 with 1 Axes>"
      ]
     },
     "metadata": {
      "needs_background": "light"
     },
     "output_type": "display_data"
    },
    {
     "data": {
      "image/png": "[encoded data removed]",
      "text/plain": [
       "<Figure size 432x288 with 1 Axes>"
      ]
     },
     "metadata": {
      "needs_background": "light"
     },
     "output_type": "display_data"
    },
    {
     "data": {
      "text/html": [
       "<div>\n",
       "<style scoped>\n",
       "    .dataframe tbody tr th:only-of-type {\n",
       "        vertical-align: middle;\n",
       "    }\n",
       "\n",
       "    .dataframe tbody tr th {\n",
       "        vertical-align: top;\n",
       "    }\n",
       "\n",
       "    .dataframe thead th {\n",
       "        text-align: right;\n",
       "    }\n",
       "</style>\n",
       "<table border=\"1\" class=\"dataframe\">\n",
       "  <thead>\n",
       "    <tr style=\"text-align: right;\">\n",
       "      <th></th>\n",
       "      <th>word</th>\n",
       "      <th>Lift</th>\n",
       "    </tr>\n",
       "  </thead>\n",
       "  <tbody>\n",
       "    <tr>\n",
       "      <td>0</td>\n",
       "      <td>health</td>\n",
       "      <td>0.001640</td>\n",
       "    </tr>\n",
       "    <tr>\n",
       "      <td>1</td>\n",
       "      <td>wealth</td>\n",
       "      <td>0.007903</td>\n",
       "    </tr>\n",
       "    <tr>\n",
       "      <td>2</td>\n",
       "      <td>eat</td>\n",
       "      <td>0.006018</td>\n",
       "    </tr>\n",
       "    <tr>\n",
       "      <td>3</td>\n",
       "      <td>green</td>\n",
       "      <td>-0.011290</td>\n",
       "    </tr>\n",
       "    <tr>\n",
       "      <td>4</td>\n",
       "      <td>vegetables</td>\n",
       "      <td>0.001939</td>\n",
       "    </tr>\n",
       "    <tr>\n",
       "      <td>5</td>\n",
       "      <td>lead</td>\n",
       "      <td>-0.009092</td>\n",
       "    </tr>\n",
       "    <tr>\n",
       "      <td>6</td>\n",
       "      <td>healthy</td>\n",
       "      <td>0.003740</td>\n",
       "    </tr>\n",
       "    <tr>\n",
       "      <td>7</td>\n",
       "      <td>life</td>\n",
       "      <td>-0.000858</td>\n",
       "    </tr>\n",
       "  </tbody>\n",
       "</table>\n",
       "</div>"
      ],
      "text/plain": [
       "         word      Lift\n",
       "0      health  0.001640\n",
       "1      wealth  0.007903\n",
       "2         eat  0.006018\n",
       "3       green -0.011290\n",
       "4  vegetables  0.001939\n",
       "5        lead -0.009092\n",
       "6     healthy  0.003740\n",
       "7        life -0.000858"
      ]
     },
     "execution_count": 69,
     "metadata": {},
     "output_type": "execute_result"
    }
   ],
   "source": [
    "persona(\"health is wealth. Eat green vegetables to lead a healthy life\")"
   ]
  },
  {
   "cell_type": "markdown",
   "metadata": {},
   "source": [
    "From the above output, we can note that interest score is about 78.4% in the message. From the visualizations and the dataframe, we can see that the positive words such as wealth, health, eat and vegetables are the important words as the interest score decreased when we removed them."
   ]
  },
  {
   "cell_type": "code",
   "execution_count": 73,
   "metadata": {},
   "outputs": [
    {
     "name": "stdout",
     "output_type": "stream",
     "text": [
      "The interest score in this message is 0.7884999173028129\n"
     ]
    },
    {
     "data": {
      "image/png": "[encoded data removed]",
      "text/plain": [
       "<Figure size 432x288 with 1 Axes>"
      ]
     },
     "metadata": {
      "needs_background": "light"
     },
     "output_type": "display_data"
    },
    {
     "data": {
      "image/png": "[encoded data removed]",
      "text/plain": [
       "<Figure size 432x288 with 1 Axes>"
      ]
     },
     "metadata": {
      "needs_background": "light"
     },
     "output_type": "display_data"
    },
    {
     "data": {
      "text/html": [
       "<div>\n",
       "<style scoped>\n",
       "    .dataframe tbody tr th:only-of-type {\n",
       "        vertical-align: middle;\n",
       "    }\n",
       "\n",
       "    .dataframe tbody tr th {\n",
       "        vertical-align: top;\n",
       "    }\n",
       "\n",
       "    .dataframe thead th {\n",
       "        text-align: right;\n",
       "    }\n",
       "</style>\n",
       "<table border=\"1\" class=\"dataframe\">\n",
       "  <thead>\n",
       "    <tr style=\"text-align: right;\">\n",
       "      <th></th>\n",
       "      <th>word</th>\n",
       "      <th>Lift</th>\n",
       "    </tr>\n",
       "  </thead>\n",
       "  <tbody>\n",
       "    <tr>\n",
       "      <td>0</td>\n",
       "      <td>world</td>\n",
       "      <td>0.003916</td>\n",
       "    </tr>\n",
       "    <tr>\n",
       "      <td>1</td>\n",
       "      <td>better</td>\n",
       "      <td>-0.003910</td>\n",
       "    </tr>\n",
       "    <tr>\n",
       "      <td>2</td>\n",
       "      <td>place</td>\n",
       "      <td>-0.000737</td>\n",
       "    </tr>\n",
       "    <tr>\n",
       "      <td>3</td>\n",
       "      <td>without</td>\n",
       "      <td>0.006858</td>\n",
       "    </tr>\n",
       "    <tr>\n",
       "      <td>4</td>\n",
       "      <td>diseases</td>\n",
       "      <td>0.000414</td>\n",
       "    </tr>\n",
       "    <tr>\n",
       "      <td>5</td>\n",
       "      <td>lead</td>\n",
       "      <td>-0.011210</td>\n",
       "    </tr>\n",
       "    <tr>\n",
       "      <td>6</td>\n",
       "      <td>death</td>\n",
       "      <td>0.004670</td>\n",
       "    </tr>\n",
       "  </tbody>\n",
       "</table>\n",
       "</div>"
      ],
      "text/plain": [
       "       word      Lift\n",
       "0     world  0.003916\n",
       "1    better -0.003910\n",
       "2     place -0.000737\n",
       "3   without  0.006858\n",
       "4  diseases  0.000414\n",
       "5      lead -0.011210\n",
       "6     death  0.004670"
      ]
     },
     "execution_count": 73,
     "metadata": {},
     "output_type": "execute_result"
    }
   ],
   "source": [
    "persona(\"This world is a better place without diseases that lead to death\")"
   ]
  },
  {
   "cell_type": "markdown",
   "metadata": {},
   "source": [
    "From the above output, we can note that interest score is about 78.8% in the message. From the visualizations and the dataframe, we can see that the positive words such as without, world, death and deseases are the important words as the interest score decreased when we removed them."
   ]
  },
  {
   "cell_type": "code",
   "execution_count": 71,
   "metadata": {},
   "outputs": [
    {
     "name": "stdout",
     "output_type": "stream",
     "text": [
      "The interest score in this message is 0.8928933888673782\n"
     ]
    },
    {
     "data": {
      "text/html": [
       "<div>\n",
       "<style scoped>\n",
       "    .dataframe tbody tr th:only-of-type {\n",
       "        vertical-align: middle;\n",
       "    }\n",
       "\n",
       "    .dataframe tbody tr th {\n",
       "        vertical-align: top;\n",
       "    }\n",
       "\n",
       "    .dataframe thead th {\n",
       "        text-align: right;\n",
       "    }\n",
       "</style>\n",
       "<table border=\"1\" class=\"dataframe\">\n",
       "  <thead>\n",
       "    <tr style=\"text-align: right;\">\n",
       "      <th></th>\n",
       "      <th>word</th>\n",
       "      <th>Lift</th>\n",
       "    </tr>\n",
       "  </thead>\n",
       "  <tbody>\n",
       "    <tr>\n",
       "      <td>0</td>\n",
       "      <td>love</td>\n",
       "      <td>-0.051623</td>\n",
       "    </tr>\n",
       "    <tr>\n",
       "      <td>1</td>\n",
       "      <td>playing</td>\n",
       "      <td>-0.019781</td>\n",
       "    </tr>\n",
       "    <tr>\n",
       "      <td>2</td>\n",
       "      <td>gta</td>\n",
       "      <td>0.035702</td>\n",
       "    </tr>\n",
       "    <tr>\n",
       "      <td>3</td>\n",
       "      <td>fifa</td>\n",
       "      <td>0.035702</td>\n",
       "    </tr>\n",
       "  </tbody>\n",
       "</table>\n",
       "</div>"
      ],
      "text/plain": [
       "      word      Lift\n",
       "0     love -0.051623\n",
       "1  playing -0.019781\n",
       "2      gta  0.035702\n",
       "3     fifa  0.035702"
      ]
     },
     "execution_count": 71,
     "metadata": {},
     "output_type": "execute_result"
    }
   ],
   "source": [
    "persona(\"I love playing gta and fifa\")"
   ]
  },
  {
   "cell_type": "markdown",
   "metadata": {},
   "source": [
    "From the above output, we can note that the interest score is 89.2%. This message is relevent to our tech persona and this short message was just to text that the bar plot doesn't show up when the count of positive and negative words seperately is less than 3. "
   ]
  },
  {
   "cell_type": "markdown",
   "metadata": {},
   "source": [
    "# Conclusion"
   ]
  },
  {
   "cell_type": "markdown",
   "metadata": {},
   "source": [
    "From the testing examples, I could conclude that with BERT word embeddings, I was able to get an interest score of 85% or higher when I would input a message related to my tech persona and when the message was not related the scores were in the range of 75% to 82%. It is known that BERT is not very good in predicting the semantics of different sentences and hence, the next steps would invlove trying different techniques."
   ]
  },
  {
   "cell_type": "markdown",
   "metadata": {},
   "source": [
    "# Next Steps"
   ]
  },
  {
   "cell_type": "markdown",
   "metadata": {},
   "source": [
    "The next step would involve using different word embedding techniques such as word2vec, glove, fasttext, doc2vec, wordnet, etc. and compare which technique is better in distinguishing the input message based on the personality of our persona."
   ]
  }
 ],
 "metadata": {
  "kernelspec": {
   "display_name": "Python 3",
   "language": "python",
   "name": "python3"
  },
  "language_info": {
   "codemirror_mode": {
    "name": "ipython",
    "version": 3
   },
   "file_extension": ".py",
   "mimetype": "text/x-python",
   "name": "python",
   "nbconvert_exporter": "python",
   "pygments_lexer": "ipython3",
   "version": "3.7.3"
  }
 },
 "nbformat": 4,
 "nbformat_minor": 2
}
